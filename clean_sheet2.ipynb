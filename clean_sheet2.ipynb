{
 "cells": [
  {
   "cell_type": "code",
   "execution_count": 3,
   "id": "3a6e2316-559c-41bf-afa4-c839b56c38dc",
   "metadata": {},
   "outputs": [
    {
     "name": "stdout",
     "output_type": "stream",
     "text": [
      "The autoreload extension is already loaded. To reload it, use:\n",
      "  %reload_ext autoreload\n"
     ]
    }
   ],
   "source": [
    "from utilities import *\n",
    "\n",
    "%load_ext autoreload\n",
    "\n",
    "%autoreload 2"
   ]
  },
  {
   "cell_type": "code",
   "execution_count": 4,
   "id": "02d7fb7b-ec7f-47fb-91b7-2e0f0a5db2e6",
   "metadata": {},
   "outputs": [
    {
     "data": {
      "application/vnd.jupyter.widget-view+json": {
       "model_id": "7fff34e86df84302aa7f611e66f5f736",
       "version_major": 2,
       "version_minor": 0
      },
      "text/plain": [
       "  0%|          | 0/40 [00:00<?, ?it/s]"
      ]
     },
     "metadata": {},
     "output_type": "display_data"
    },
    {
     "name": "stderr",
     "output_type": "stream",
     "text": [
      "IOPub data rate exceeded.\n",
      "The Jupyter server will temporarily stop sending output\n",
      "to the client in order to avoid crashing it.\n",
      "To change this limit, set the config variable\n",
      "`--ServerApp.iopub_data_rate_limit`.\n",
      "\n",
      "Current values:\n",
      "ServerApp.iopub_data_rate_limit=1000000.0 (bytes/sec)\n",
      "ServerApp.rate_limit_window=3.0 (secs)\n",
      "\n"
     ]
    }
   ],
   "source": [
    "# chargement d'un jeu de 40 donnees\n",
    "data = load_train(10)"
   ]
  },
  {
   "cell_type": "code",
   "execution_count": 5,
   "id": "b117f4ee-a39b-49eb-a38f-813c648d3adf",
   "metadata": {},
   "outputs": [
    {
     "data": {
      "application/vnd.jupyter.widget-view+json": {
       "model_id": "d66eb198b2aa4371b10b96fdf7939443",
       "version_major": 2,
       "version_minor": 0
      },
      "text/plain": [
       "  0%|          | 0/8 [00:00<?, ?it/s]"
      ]
     },
     "metadata": {},
     "output_type": "display_data"
    },
    {
     "data": {
      "application/vnd.jupyter.widget-view+json": {
       "model_id": "bb1e4bedacc64602ad3434310e6784cc",
       "version_major": 2,
       "version_minor": 0
      },
      "text/plain": [
       "  0%|          | 0/2 [00:00<?, ?it/s]"
      ]
     },
     "metadata": {},
     "output_type": "display_data"
    }
   ],
   "source": [
    "# split de donnees\n",
    "X_train, y_train, X_valid, y_valid = load_subsets(data,coef_train=0.8,coef_valid=0.2)"
   ]
  },
  {
   "cell_type": "code",
   "execution_count": null,
   "id": "d479c565-b121-480b-90f8-53aea6f3a049",
   "metadata": {},
   "outputs": [],
   "source": [
    "plot_score_components(X_train, y_train, X_valid, y_valid,10,300,10)"
   ]
  },
  {
   "cell_type": "code",
   "execution_count": null,
   "id": "368ce53b-ab1a-4d27-b994-51c11113c161",
   "metadata": {},
   "outputs": [],
   "source": [
    "plot_score_components(X_train, y_train, X_valid, y_valid,155,180,1)"
   ]
  },
  {
   "cell_type": "code",
   "execution_count": null,
   "id": "42f9ba91-256f-4912-8278-5a7702368e07",
   "metadata": {},
   "outputs": [],
   "source": [
    "clf = sklearn.svm.SVC(C=2,kernel=\"poly\",degree=5,coef0=1)\n",
    "      \n",
    "preProc = sklearn.decomposition.PCA(164)\n",
    "preProc.fit(X_train)\n",
    "\n",
    "X_train_Transformed = preProc.transform(X_train)\n",
    "X_valid_Transformed = preProc.transform(X_valid)\n",
    "\n",
    "clf.fit(X_train_Transformed, y_train)\n",
    "trainscore = clf.score(X_train_Transformed,y_train)\n",
    "validscore = clf.score(X_valid_Transformed,y_valid)"
   ]
  },
  {
   "cell_type": "code",
   "execution_count": null,
   "id": "4375454f-facb-42ba-a8c3-af3318cdd56b",
   "metadata": {},
   "outputs": [],
   "source": [
    "clf.predict(X_valid_Transformed)"
   ]
  }
 ],
 "metadata": {
  "kernelspec": {
   "display_name": "Python 3 (ipykernel)",
   "language": "python",
   "name": "python3"
  },
  "language_info": {
   "codemirror_mode": {
    "name": "ipython",
    "version": 3
   },
   "file_extension": ".py",
   "mimetype": "text/x-python",
   "name": "python",
   "nbconvert_exporter": "python",
   "pygments_lexer": "ipython3",
   "version": "3.9.6"
  }
 },
 "nbformat": 4,
 "nbformat_minor": 5
}
