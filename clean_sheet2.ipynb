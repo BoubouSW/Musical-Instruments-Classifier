{
 "cells": [
  {
   "cell_type": "code",
   "execution_count": 1,
   "id": "3a6e2316-559c-41bf-afa4-c839b56c38dc",
   "metadata": {},
   "outputs": [],
   "source": [
    "from utilities import *\n",
    "\n",
    "%load_ext autoreload\n",
    "\n",
    "%autoreload 2"
   ]
  },
  {
   "cell_type": "code",
   "execution_count": 223,
   "id": "02d7fb7b-ec7f-47fb-91b7-2e0f0a5db2e6",
   "metadata": {},
   "outputs": [
    {
     "data": {
      "application/vnd.jupyter.widget-view+json": {
       "model_id": "c7592b541c7c4a64ba3bc4b81eb86ebd",
       "version_major": 2,
       "version_minor": 0
      },
      "text/plain": [
       "  0%|          | 0/1600 [00:00<?, ?it/s]"
      ]
     },
     "metadata": {},
     "output_type": "display_data"
    }
   ],
   "source": [
    "# chargement d'un jeu de 40 donnees\n",
    "data = load_train(400,begin=0.5,duration=2)"
   ]
  },
  {
   "cell_type": "code",
   "execution_count": 224,
   "id": "b117f4ee-a39b-49eb-a38f-813c648d3adf",
   "metadata": {},
   "outputs": [],
   "source": [
    "# split de donnees\n",
    "X,y = convert_df(data)"
   ]
  },
  {
   "cell_type": "code",
   "execution_count": 225,
   "id": "f0e1da38-5592-4d86-b13e-49faf62a5e18",
   "metadata": {},
   "outputs": [
    {
     "data": {
      "image/png": "[encoded data removed]",
      "text/plain": [
       "<Figure size 432x288 with 1 Axes>"
      ]
     },
     "metadata": {
      "needs_background": "light"
     },
     "output_type": "display_data"
    }
   ],
   "source": [
    "plot_cumexpvar(X,0.99)"
   ]
  },
  {
   "cell_type": "code",
   "execution_count": 226,
   "id": "c5ba2694-f777-4201-9ac8-de52f8f6123d",
   "metadata": {},
   "outputs": [],
   "source": [
    "C = 2\n",
    "degree = 6"
   ]
  },
  {
   "cell_type": "code",
   "execution_count": 227,
   "id": "9839e5b9-c732-4c33-873e-d65859c0f1a3",
   "metadata": {},
   "outputs": [],
   "source": [
    "#plot_score_components(X_train, y_train, X_valid, y_valid,C,degree,11,500,50)"
   ]
  },
  {
   "cell_type": "code",
   "execution_count": 228,
   "id": "368ce53b-ab1a-4d27-b994-51c11113c161",
   "metadata": {},
   "outputs": [],
   "source": [
    "#plot_score_components(X_train, y_train, X_valid, y_valid,C,degree,100,220,1)"
   ]
  },
  {
   "cell_type": "code",
   "execution_count": 229,
   "id": "42f9ba91-256f-4912-8278-5a7702368e07",
   "metadata": {},
   "outputs": [
    {
     "data": {
      "application/vnd.jupyter.widget-view+json": {
       "model_id": "80e13278969b4784bff32e89d8165b74",
       "version_major": 2,
       "version_minor": 0
      },
      "text/plain": [
       "  0%|          | 0/13 [00:00<?, ?it/s]"
      ]
     },
     "metadata": {},
     "output_type": "display_data"
    }
   ],
   "source": [
    "clf = sklearn.svm.SVC(C=C,kernel=\"poly\",degree=degree,coef0=1)\n",
    "train_score = []\n",
    "valid_score = []\n",
    "nComp_range = np.arange(90,220,10)\n",
    "for i in tqdm(nComp_range):\n",
    "    preProc = sklearn.decomposition.PCA(i)\n",
    "    preProc.fit(X)\n",
    "\n",
    "    X_Transformed = preProc.transform(X)\n",
    "    #X_valid_Transformed = preProc.transform(X_valid)\n",
    "\n",
    "    #clf.fit(X_train_Transformed, y_train)\n",
    "    #clf.fit(X_valid_Transformed,y_valid)\n",
    "\n",
    "    #trainscore = clf.score(X_train_Transformed,y_train)\n",
    "    #validscore = clf.score(X_valid_Transformed,y_valid)\n",
    "\n",
    "    cv_results = cross_validate(clf, X_Transformed, y, cv=10,return_estimator=True,return_train_score=True)\n",
    "    sorted(cv_results.keys())\n",
    "    train_score.append(np.max(cv_results['train_score']))\n",
    "    valid_score.append(np.max(cv_results['test_score']))"
   ]
  },
  {
   "cell_type": "code",
   "execution_count": 230,
   "id": "c68d78e4-5af9-4bcf-9ad6-9b3b365626fe",
   "metadata": {},
   "outputs": [
    {
     "data": {
      "text/plain": [
       "100"
      ]
     },
     "execution_count": 230,
     "metadata": {},
     "output_type": "execute_result"
    }
   ],
   "source": [
    "bestIndex = np.argmax(valid_score)\n",
    "nComp_range[bestIndex]"
   ]
  },
  {
   "cell_type": "code",
   "execution_count": 231,
   "id": "ea38262c-e1ad-4da8-b063-a1de47d61559",
   "metadata": {},
   "outputs": [
    {
     "data": {
      "text/plain": [
       "(0.5, 1.0)"
      ]
     },
     "execution_count": 231,
     "metadata": {},
     "output_type": "execute_result"
    },
    {
     "data": {
      "image/png": "[encoded data removed]",
      "text/plain": [
       "<Figure size 432x432 with 1 Axes>"
      ]
     },
     "metadata": {
      "needs_background": "light"
     },
     "output_type": "display_data"
    }
   ],
   "source": [
    "fig = plt.figure(figsize=(6,6))\n",
    "ax = fig.add_subplot(1,1,1)\n",
    "ax.plot(nComp_range, train_score, label= \"train score\")\n",
    "ax.plot(nComp_range, valid_score, label= \"valid score\")\n",
    "ax.set_xlabel(\"nombre comp\")\n",
    "ax.set_ylabel(\"scores\")\n",
    "ax.legend()\n",
    "ax.set_ylim([0.5,1])"
   ]
  },
  {
   "cell_type": "code",
   "execution_count": 234,
   "id": "c5b8321f-f0a1-4d16-a8c8-5ea2119f87e6",
   "metadata": {},
   "outputs": [],
   "source": [
    "preProc = sklearn.decomposition.PCA(100)\n",
    "preProc.fit(X)\n",
    "X_Transformed = preProc.transform(X)\n",
    "#X_valid_Transformed = preProc.transform(X_valid)\n",
    "\n",
    "#clf.fit(X_train_Transformed, y_train)\n",
    "#clf.fit(X_valid_Transformed,y_valid)\n",
    "    #trainscore = clf.score(X_train_Transformed,y_train)\n",
    "    #validscore = clf.score(X_valid_Transformed,y_valid)\n",
    "\n",
    "cv_results = cross_validate(clf, X_Transformed, y, cv=10,return_estimator=True,return_train_score=True)\n",
    "sorted(cv_results.keys())\n",
    "best_svc = cv_results[\"estimator\"][7]"
   ]
  },
  {
   "cell_type": "code",
   "execution_count": 235,
   "id": "5349b504-0952-4bf3-aee2-d60a4cf2aa30",
   "metadata": {},
   "outputs": [
    {
     "data": {
      "text/plain": [
       "7"
      ]
     },
     "execution_count": 235,
     "metadata": {},
     "output_type": "execute_result"
    }
   ],
   "source": [
    "np.argmax(cv_results[\"test_score\"])"
   ]
  },
  {
   "cell_type": "code",
   "execution_count": 266,
   "id": "777b40a7-9f93-4946-a5a4-037fb7b0d1a6",
   "metadata": {},
   "outputs": [
    {
     "data": {
      "application/vnd.jupyter.widget-view+json": {
       "model_id": "1ef5cb3fb2d744888a0f2629bb8f479a",
       "version_major": 2,
       "version_minor": 0
      },
      "text/plain": [
       "  0%|          | 0/64 [00:00<?, ?it/s]"
      ]
     },
     "metadata": {},
     "output_type": "display_data"
    }
   ],
   "source": [
    "data_test = load_test(16, duration=2)"
   ]
  },
  {
   "cell_type": "code",
   "execution_count": 267,
   "id": "60a42620",
   "metadata": {},
   "outputs": [
    {
     "data": {
      "text/plain": [
       "[<matplotlib.lines.Line2D at 0x1d434003460>]"
      ]
     },
     "execution_count": 267,
     "metadata": {},
     "output_type": "execute_result"
    },
    {
     "data": {
      "image/png": "[encoded data removed]",
      "text/plain": [
       "<Figure size 432x288 with 1 Axes>"
      ]
     },
     "metadata": {
      "needs_background": "light"
     },
     "output_type": "display_data"
    }
   ],
   "source": [
    "pd.DataFrame(data_test.iloc[1])\n",
    "x = np.arange(0, 250, 0.5)\n",
    "y = list(data_test.iloc[31])[2:]\n",
    "plt.plot(x, y)"
   ]
  },
  {
   "cell_type": "code",
   "execution_count": 268,
   "id": "2d6095d1",
   "metadata": {},
   "outputs": [
    {
     "data": {
      "text/plain": [
       "3.84"
      ]
     },
     "execution_count": 268,
     "metadata": {},
     "output_type": "execute_result"
    }
   ],
   "source": [
    "librosa.get_duration(filename=\"./dataset/Test_submission/Test_submission/wingrandpiano-96338.wav\")"
   ]
  },
  {
   "cell_type": "code",
   "execution_count": 269,
   "id": "3013a761-1181-4f5e-af75-a5dd60c57111",
   "metadata": {},
   "outputs": [],
   "source": [
    "X_test, y_test = load_subsets_test(data_test)"
   ]
  },
  {
   "cell_type": "code",
   "execution_count": 270,
   "id": "ce529f8a-fe6d-4b5a-9299-11daca5317e1",
   "metadata": {},
   "outputs": [],
   "source": [
    "X_test_Transformed = preProc.transform(X_test)"
   ]
  },
  {
   "cell_type": "code",
   "execution_count": 271,
   "id": "e3d88525-c67f-418b-bd61-bd3f63433d15",
   "metadata": {},
   "outputs": [],
   "source": [
    "#clf.predict(X_test_Transformed)"
   ]
  },
  {
   "cell_type": "code",
   "execution_count": 272,
   "id": "563b0587-cfc2-4790-8432-e11e0e9bb0d6",
   "metadata": {},
   "outputs": [
    {
     "data": {
      "text/plain": [
       "0.609375"
      ]
     },
     "execution_count": 272,
     "metadata": {},
     "output_type": "execute_result"
    }
   ],
   "source": [
    "best_svc.score(X_test_Transformed,y_test)"
   ]
  },
  {
   "cell_type": "code",
   "execution_count": null,
   "id": "45bd9bfd-05e5-418e-8902-ca087722c0f3",
   "metadata": {},
   "outputs": [],
   "source": []
  }
 ],
 "metadata": {
  "kernelspec": {
   "display_name": "Python 3 (ipykernel)",
   "language": "python",
   "name": "python3"
  },
  "language_info": {
   "codemirror_mode": {
    "name": "ipython",
    "version": 3
   },
   "file_extension": ".py",
   "mimetype": "text/x-python",
   "name": "python",
   "nbconvert_exporter": "python",
   "pygments_lexer": "ipython3",
   "version": "3.9.13"
  }
 },
 "nbformat": 4,
 "nbformat_minor": 5
}
